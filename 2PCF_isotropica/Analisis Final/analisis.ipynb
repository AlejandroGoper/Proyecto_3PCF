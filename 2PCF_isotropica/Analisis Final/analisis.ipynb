{
 "metadata": {
  "language_info": {
   "codemirror_mode": {
    "name": "ipython",
    "version": 3
   },
   "file_extension": ".py",
   "mimetype": "text/x-python",
   "name": "python",
   "nbconvert_exporter": "python",
   "pygments_lexer": "ipython3",
   "version": "3.7.6-final"
  },
  "orig_nbformat": 2,
  "kernelspec": {
   "name": "python3",
   "display_name": "Python 3",
   "language": "python"
  }
 },
 "nbformat": 4,
 "nbformat_minor": 2,
 "cells": [
  {
   "cell_type": "code",
   "execution_count": 109,
   "metadata": {},
   "outputs": [],
   "source": [
    "import pandas as pd"
   ]
  },
  {
   "cell_type": "code",
   "execution_count": 110,
   "metadata": {},
   "outputs": [],
   "source": [
    "df=pd.read_csv('2PCFiso_2GPc.dat',delimiter='\\t')"
   ]
  },
  {
   "cell_type": "code",
   "execution_count": 111,
   "metadata": {},
   "outputs": [
    {
     "output_type": "stream",
     "name": "stdout",
     "text": [
      "      dmax  partitions      time\n0       20          15   9326.06\n1       20          15   9298.74\n2       20          15   9318.41\n3       20          15   9281.83\n4       20          15   9323.62\n...    ...         ...       ...\n3980   160          95  14167.70\n3981   160          95  14310.00\n3982   160          95  14122.20\n3983   160          95  14422.70\n3984   160          95  14319.20\n\n[3985 rows x 3 columns]\n"
     ]
    }
   ],
   "source": [
    "print(df[['dmax','partitions','time']])"
   ]
  },
  {
   "cell_type": "code",
   "execution_count": 112,
   "metadata": {},
   "outputs": [],
   "source": [
    "data = df[['dmax','partitions','time']]\n",
    "partitions = list(set(df['partitions']))\n",
    "dmax = list(set(df['dmax']))\n",
    "dmax.sort()\n",
    "partitions.sort()"
   ]
  },
  {
   "cell_type": "code",
   "execution_count": 113,
   "metadata": {
    "tags": []
   },
   "outputs": [],
   "source": [
    "archivo = open(\"r2PCFiso_2GPc.dat\",\"w\")\n",
    "for i in dmax:\n",
    "    for j in partitions:\n",
    "        D = data.loc[(df['dmax'] == i) & (df['partitions'] == j)] \n",
    "        archivo.write(str(i))\n",
    "        archivo.write(\"\\t\")\n",
    "        archivo.write(str(j))\n",
    "        archivo.write(\"\\t\")\n",
    "        archivo.write(str(D['time'].mean()))\n",
    "        archivo.write(\"\\t\")\n",
    "        archivo.write(str(D['time'].std()))\n",
    "        archivo.write(\"\\n\")"
   ]
  },
  {
   "cell_type": "code",
   "execution_count": null,
   "metadata": {},
   "outputs": [],
   "source": []
  }
 ]
}