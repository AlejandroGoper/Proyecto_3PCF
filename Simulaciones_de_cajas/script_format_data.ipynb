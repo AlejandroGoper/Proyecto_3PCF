{
 "metadata": {
  "language_info": {
   "codemirror_mode": {
    "name": "ipython",
    "version": 3
   },
   "file_extension": ".py",
   "mimetype": "text/x-python",
   "name": "python",
   "nbconvert_exporter": "python",
   "pygments_lexer": "ipython3",
   "version": "3.8.5"
  },
  "orig_nbformat": 2,
  "kernelspec": {
   "name": "python385jvsc74a57bd08d5af786ff45d0b0a33f8d2f07da2f52583a9f20d04f38e5bd3f4a86fa7df438",
   "display_name": "Python 3.8.5 64-bit ('base': conda)"
  }
 },
 "nbformat": 4,
 "nbformat_minor": 2,
 "cells": [
  {
   "cell_type": "code",
   "execution_count": 1,
   "metadata": {},
   "outputs": [],
   "source": [
    "import numpy as np "
   ]
  },
  {
   "cell_type": "code",
   "execution_count": 9,
   "metadata": {},
   "outputs": [
    {
     "output_type": "stream",
     "name": "stdout",
     "text": [
      "=======================================================\n",
      "Archivo:  data_512MPc_0.dat\n",
      "Cantidad de dato:  50653\n",
      "=======================================================\n",
      "=======================================================\n",
      "Archivo:  data_512MPc_1.dat\n",
      "Cantidad de dato:  50653\n",
      "=======================================================\n",
      "=======================================================\n",
      "Archivo:  data_512MPc_2.dat\n",
      "Cantidad de dato:  50653\n",
      "=======================================================\n",
      "=======================================================\n",
      "Archivo:  data_512MPc_3.dat\n",
      "Cantidad de dato:  50653\n",
      "=======================================================\n",
      "=======================================================\n",
      "Archivo:  data_512MPc_4.dat\n",
      "Cantidad de dato:  50653\n",
      "=======================================================\n",
      "=======================================================\n",
      "Archivo:  data_512MPc_5.dat\n",
      "Cantidad de dato:  50653\n",
      "=======================================================\n",
      "=======================================================\n",
      "Archivo:  data_512MPc_6.dat\n",
      "Cantidad de dato:  50653\n",
      "=======================================================\n",
      "=======================================================\n",
      "Archivo:  data_512MPc_7.dat\n",
      "Cantidad de dato:  50653\n",
      "=======================================================\n",
      "=======================================================\n",
      "Archivo:  data_512MPc_8.dat\n",
      "Cantidad de dato:  50653\n",
      "=======================================================\n",
      "=======================================================\n",
      "Archivo:  data_512MPc_9.dat\n",
      "Cantidad de dato:  50653\n",
      "=======================================================\n",
      "=======================================================\n",
      "Archivo:  data_512MPc_10.dat\n",
      "Cantidad de dato:  50653\n",
      "=======================================================\n",
      "=======================================================\n",
      "Archivo:  data_512MPc_11.dat\n",
      "Cantidad de dato:  50653\n",
      "=======================================================\n",
      "=======================================================\n",
      "Archivo:  data_512MPc_12.dat\n",
      "Cantidad de dato:  50653\n",
      "=======================================================\n",
      "=======================================================\n",
      "Archivo:  data_512MPc_13.dat\n",
      "Cantidad de dato:  50653\n",
      "=======================================================\n",
      "=======================================================\n",
      "Archivo:  data_512MPc_14.dat\n",
      "Cantidad de dato:  50653\n",
      "=======================================================\n"
     ]
    }
   ],
   "source": [
    "# Para los datos de 512 MPC ... sufijo = data_512MPc_  range(15)\n",
    "# Para los datos de 1GPc ... sufijo = data_1GPc_    range(10)\n",
    "# Para los datos de 2GPc ... sufijo = data_2GPc_    range(5)\n",
    "\n",
    "sufijo = \"data_512MPc_\"\n",
    "for i in range(15):\n",
    "    nombre = sufijo + str(i) + \".dat\"\n",
    "    data_ = np.genfromtxt(nombre)\n",
    "    data = data_[:,:3]\n",
    "    data = np.append(data,np.ones((len(data),1)),axis=1) \n",
    "    print(\"=======================================================\")\n",
    "    print(\"Archivo: \",nombre)\n",
    "    print(\"Cantidad de dato: \",len(data))\n",
    "    print(\"=======================================================\")\n",
    "    np.savetxt(nombre,data,fmt=\"%f\",delimiter=\"\\t\")\n"
   ]
  },
  {
   "cell_type": "code",
   "execution_count": null,
   "metadata": {},
   "outputs": [],
   "source": []
  }
 ]
}